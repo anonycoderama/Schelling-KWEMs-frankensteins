{
 "cells": [
  {
   "attachments": {},
   "cell_type": "markdown",
   "metadata": {},
   "source": [
    "A schelling model with continuous wealth and vacant exchange rule(wealth can be seen as a \"continuous differentiator\", for now )(this can bbe used to show that athough we model it the shift as an agents choice,however in the market this affordability paradigm naturally arises from the average wealth of the neighbourhood(houses themselves being assets))\n",
    "\n",
    "Start with 2 types of agents and consider moore neighborhood of every agent\n"
   ]
  },
  {
   "cell_type": "code",
   "execution_count": 1,
   "metadata": {},
   "outputs": [],
   "source": [
    "import numpy as np\n",
    "import random\n",
    "import math\n",
    "import pandas as pd\n",
    "from matplotlib import pyplot as plt\n",
    "from matplotlib import colors\n"
   ]
  },
  {
   "cell_type": "code",
   "execution_count": null,
   "metadata": {},
   "outputs": [],
   "source": []
  },
  {
   "cell_type": "code",
   "execution_count": null,
   "metadata": {},
   "outputs": [],
   "source": []
  },
  {
   "attachments": {},
   "cell_type": "markdown",
   "metadata": {},
   "source": [
    "Initialising all the variables"
   ]
  },
  {
   "cell_type": "code",
   "execution_count": 137,
   "metadata": {},
   "outputs": [],
   "source": [
    "width=50 #width of the landscape(x)\n",
    "length=50#length of the landscape(y)\n",
    "percent_vacant=0.20\n",
    "percent_type_1=0.5\n",
    "percent_type_2=(1-percent_type_1)\n",
    "agent_occupancy_rate=(1-percent_vacant)\n",
    "number_of_agents=math.floor((width*length)*agent_occupancy_rate)\n",
    "numberof1s=math.floor(percent_type_1*number_of_agents)\n",
    "numberof2s=number_of_agents-numberof1s\n",
    "vacant_tiles= (length*width)-number_of_agents\n",
    "x=np.arange(0,width,1)#initialize the grid\n",
    "y=np.arange(0,length,1)#initialize the grid\n",
    "#np.random.shuffle(x)\n",
    "#np.random.shuffle(y)\n",
    "avg_wealth=100\n",
    "stdev=3\n",
    "wealth=np.absolute(np.random.normal(avg_wealth,stdev,number_of_agents))\n",
    "randomallocatecoord=np.arange(0,length*width,1)#Help randomly intialiize initial position of the agents\n",
    "np.random.shuffle(randomallocatecoord)\n",
    "tolerance=np.ones(number_of_agents)*3\n",
    "#tolerance[0:3]=0\n",
    "#tolerance[number_of_agents-4:number_of_agents-1]=0\n",
    "track=np.zeros((length,width)) #a golobal variable to track which agent is in which position\n",
    "\n",
    "\n"
   ]
  },
  {
   "cell_type": "code",
   "execution_count": 138,
   "metadata": {},
   "outputs": [
    {
     "name": "stdout",
     "output_type": "stream",
     "text": [
      "[]\n"
     ]
    }
   ],
   "source": [
    "class Agent():\n",
    "    coord=[]\n",
    "    def __init__(self,i,x_coord,y_coord,wealth_agent,toler,type):\n",
    "        self.agent_id=i\n",
    "        self.coord=[x_coord,y_coord]\n",
    "        self.wealth=wealth_agent\n",
    "        self.tol=toler\n",
    "        self.type=type\n",
    "    print(coord)\n"
   ]
  },
  {
   "attachments": {},
   "cell_type": "markdown",
   "metadata": {},
   "source": [
    "Allocate coordinates to the agents randomly and also store the location of vacant cells"
   ]
  },
  {
   "cell_type": "code",
   "execution_count": 139,
   "metadata": {},
   "outputs": [],
   "source": [
    "randomallocatecoord=np.arange(0,length*width,1)\n",
    "agents=[] #agents indexed by agent id\n",
    "vacant=[]\n",
    "track=(np.ones((length,width))*(-1)).astype(int)#agentid indexed by their coordinates\n",
    "j=0\n",
    "y_coord=-1\n",
    "x_coord=-1\n",
    "np.random.shuffle(randomallocatecoord)\n",
    "for i in range(length*width): # i represents the agent number and not the grid position\n",
    "   x_coord=int(randomallocatecoord[i]%length)\n",
    "   y_coord=int((randomallocatecoord[i]/width))\n",
    "   \n",
    "   if i<number_of_agents: # while loop running over the agent indices\n",
    "      if i<numberof1s : #first set are agents of type 1\n",
    "        agents.append(Agent(i,x_coord,y_coord,wealth[i],tolerance[i],1))\n",
    "      else:\n",
    "         agents.append(Agent(i,x_coord,y_coord,wealth[i],tolerance[i],2)) #after that agents of type 2\n",
    "      track[x_coord][y_coord]=int(i)\n",
    "   else:\n",
    "      vacant.append([x_coord,y_coord]) #remaining are vacant cells\n",
    "    \n"
   ]
  },
  {
   "attachments": {},
   "cell_type": "markdown",
   "metadata": {},
   "source": [
    "Make a function to print the matrix of the agent in their landscape"
   ]
  },
  {
   "cell_type": "code",
   "execution_count": 140,
   "metadata": {},
   "outputs": [
    {
     "data": {
      "image/png": "[encoded data removed]",
      "text/plain": [
       "<Figure size 432x288 with 1 Axes>"
      ]
     },
     "metadata": {
      "needs_background": "light"
     },
     "output_type": "display_data"
    }
   ],
   "source": [
    "%matplotlib inline\n",
    "def print_grid(all_agent_info):\n",
    "    grid=np.zeros((length,width))\n",
    "    i=0\n",
    "    for i in range(number_of_agents):\n",
    "        grid[all_agent_info[i].coord[0]][all_agent_info[i].coord[1]]=all_agent_info[i].type\n",
    "    cmap = colors.ListedColormap(['white','red', 'blue'])\n",
    "    bounds = [-0.1,0.1,1.1,2.1]\n",
    "    norm = colors.BoundaryNorm(bounds, cmap.N)\n",
    "\n",
    "    fig, ax = plt.subplots()\n",
    "    ax.imshow(grid, cmap=cmap, norm=norm)\n",
    "\n",
    "    # draw gridlines\n",
    "    ax.grid(which='major', axis='both', linestyle='-', color='k', linewidth=1)\n",
    "    ax.set_xticks(np.arange(-0.5, length, 1))\n",
    "    ax.set_yticks(np.arange(-0.5, width, 1))\n",
    "    plt.show()\n",
    "\n",
    "\n",
    "print_grid(agents)"
   ]
  },
  {
   "cell_type": "code",
   "execution_count": 141,
   "metadata": {},
   "outputs": [
    {
     "data": {
      "text/plain": [
       "array([[1076,   -1,  719, ...,   -1, 1709, 1772],\n",
       "       [1199, 1626, 1242, ..., 1413,  959,   -1],\n",
       "       [ 497, 1974,  388, ...,   -1,  861,  328],\n",
       "       ...,\n",
       "       [1428, 1031, 1650, ...,  323,   -1, 1643],\n",
       "       [ 755,   -1,   -1, ..., 1205,   -1,   -1],\n",
       "       [1509,  873,    2, ..., 1714, 1312,  214]])"
      ]
     },
     "execution_count": 141,
     "metadata": {},
     "output_type": "execute_result"
    }
   ],
   "source": [
    "track"
   ]
  },
  {
   "attachments": {},
   "cell_type": "markdown",
   "metadata": {},
   "source": [
    "Make code for finding initial unhappy agents"
   ]
  },
  {
   "cell_type": "code",
   "execution_count": 142,
   "metadata": {},
   "outputs": [
    {
     "data": {
      "text/plain": [
       "771"
      ]
     },
     "execution_count": 142,
     "metadata": {},
     "output_type": "execute_result"
    }
   ],
   "source": [
    "unhappy_agents=[] \n",
    "t=0\n",
    "test=0\n",
    "end=7\n",
    "coord=np.zeros(2)\n",
    "nb=np.array([[-1,-1],[-1,0],[-1,1],[0,1],[0,-1],[1,-1],[1,0],[1,1]])\n",
    "for i,a in enumerate(agents):\n",
    "     test=0\n",
    "     t=np.array(a.tol)\n",
    "     coord=np.array(a.coord)\n",
    "     neighbours=np.copy(nb)\n",
    "     # Taking care of boundary conditions(Torus=false)\n",
    "     if coord[0]==0:\n",
    "          neighbours=np.array(list(set(map(tuple, neighbours)) - set(map(tuple,np.array([[-1,-1],[-1,0],[-1,1]])))))\n",
    "     elif coord[0]==(width-1):\n",
    "          neighbours=np.array(list(set(map(tuple, neighbours)) - set(map(tuple,np.array([[1,-1],[1,0],[1,1]])))))\n",
    "     if coord[1]==0:\n",
    "          neighbours=np.array(list(set(map(tuple, neighbours)) - set(map(tuple,np.array([[-1,-1],[0,-1],[1,-1]])))))\n",
    "     elif coord[1]==(length-1):\n",
    "          neighbours=np.array(list(set(map(tuple, neighbours)) - set(map(tuple,np.array([[-1,1],[0,1],[1,1]])))))\n",
    "    \n",
    "     for nbhood in neighbours: #looping over all available neighbours\n",
    "          nghbr_coord=nbhood+coord\n",
    "          id=track[nghbr_coord[0]][nghbr_coord[1]]\n",
    "          if id!=-1:#checking if neighboring cell is vacant\n",
    "            if agents[id].type!=a.type :#testing if agent type of neighbour same as original\n",
    "                 test+=1\n",
    "     if test>a.tol :\n",
    "          unhappy_agents.append(i) #appending agent_id of unhappy agent\n",
    "\n",
    "len(unhappy_agents)\n",
    "\n",
    "     \n",
    "          "
   ]
  },
  {
   "cell_type": "code",
   "execution_count": 143,
   "metadata": {},
   "outputs": [
    {
     "data": {
      "text/plain": [
       "array([[-1,  1],\n",
       "       [ 0,  1],\n",
       "       [ 0, -1],\n",
       "       [ 1, -1],\n",
       "       [ 1,  0],\n",
       "       [ 1,  1]])"
      ]
     },
     "execution_count": 143,
     "metadata": {},
     "output_type": "execute_result"
    }
   ],
   "source": [
    "neighbours=np.array([[-1,-1],[-1,0],[-1,1],[0,1],[0,-1],[1,-1],[1,0],[1,1]])\n",
    "np.delete(neighbours,[0,1],0)"
   ]
  },
  {
   "attachments": {},
   "cell_type": "markdown",
   "metadata": {},
   "source": [
    "Once 2 agents are exchanged, new \"unhappy agents\" would be the ones in the moore neighborhood of the exchanged positions, so this is code to check happiness of agents in the moore negihborhood of exchange and add them to unhappy list if they are disgruntled, and to remove the agents that exchanged positions from unhappy agents list if they are happy.  "
   ]
  },
  {
   "cell_type": "code",
   "execution_count": 144,
   "metadata": {},
   "outputs": [],
   "source": [
    "#old_coord and new_coord are integer lists\n",
    "def unhappy_agents_update(agents,track,old_coord,new_coord): #old_coord is supposed to be the original coordinate of agent before \"migration\", new_coord is coordinate of agent after exchange\n",
    "    \n",
    "    nb=np.array([[-1,-1],[-1,0],[-1,1],[0,1],[0,-1],[1,-1],[1,0],[1,1]])\n",
    "    t=0\n",
    "    #if exchanged agent is satisfied then remove \n",
    "    coord=new_coord \n",
    "    i=track[new_coord[0]][new_coord[1]]\n",
    "    a=agents[i]\n",
    "    neighbours=np.array([[-1,-1],[-1,0],[-1,1],[0,1],[0,-1],[1,-1],[1,0],[1,1]])\n",
    "    test=0\n",
    "    t=(a.tol)\n",
    "    coord=np.array(a.coord)\n",
    "    neighbours=np.copy(nb)\n",
    "    # Taking care of boundary conditions(Torus=false)\n",
    "    if coord[0]==0:\n",
    "          neighbours=np.array(list(set(map(tuple, neighbours)) - set(map(tuple,np.array([[-1,-1],[-1,0],[-1,1]])))))\n",
    "    elif coord[0]==(width-1):\n",
    "          neighbours=np.array(list(set(map(tuple, neighbours)) - set(map(tuple,np.array([[1,-1],[1,0],[1,1]])))))\n",
    "    if coord[1]==0:\n",
    "          neighbours=np.array(list(set(map(tuple, neighbours)) - set(map(tuple,np.array([[-1,-1],[0,-1],[1,-1]])))))\n",
    "    elif coord[1]==(length-1):\n",
    "          neighbours=np.array(list(set(map(tuple, neighbours)) - set(map(tuple,np.array([[-1,1],[0,1],[1,1]])))))\n",
    "          \n",
    "    for nbhood in neighbours: #looping over all available neighbours\n",
    "         nghbr_coord=nbhood+coord\n",
    "         id=track[nghbr_coord[0]][nghbr_coord[1]]\n",
    "         if id!=-1:#checking if neighboring cell is vacant\n",
    "           if agents[id].type!=a.type :#testing if agent type of neighbour same as original\n",
    "                test+=1\n",
    "    if test<=t:\n",
    "      unhappy_agents.remove(a.agent_id)\n",
    "    test=0\n",
    "    #see how many neighbours of old_coord and new_coord exist and then check their satisfaction\n",
    "    neighbours=np.copy(nb)\n",
    "    master_coord=[np.array(old_coord),np.array(new_coord)]\n",
    "    for coord in master_coord: #check the happiness of agents who are neighbours of places that suffered a change\n",
    "      neighbours=np.copy(nb)\n",
    "      for nbhood in neighbours:\n",
    "           neighbours_of_migrants=np.copy(nb)\n",
    "           check_coord=coord+np.array(nbhood) #neighbour of migrants\n",
    "           test=0 #below if statement checks if the neighbours(old and new) coordinates of migrants are valid or not\n",
    "           if(check_coord[0]>=0 and check_coord[0]<width and check_coord[1]>=0 and check_coord[1]<length): #there might be error here in the usage of and operator\n",
    "               check_agent=agents[track[check_coord[0]][check_coord[1]]]#agent object of neighbour of migrant\n",
    "               if check_coord[0]==0:\n",
    "                  neighbours_of_migrants=np.array(list(set(map(tuple, neighbours_of_migrants)) - set(map(tuple,np.array([[-1,-1],[-1,0],[-1,1]])))))\n",
    "               elif check_coord[0]==(width-1):\n",
    "                  neighbours_of_migrants=np.array(list(set(map(tuple, neighbours_of_migrants)) - set(map(tuple,np.array([[1,-1],[1,0],[1,1]])))))\n",
    "               if check_coord[1]==0:\n",
    "                  neighbours_of_migrants=np.array(list(set(map(tuple, neighbours_of_migrants)) - set(map(tuple,np.array([[-1,-1],[0,-1],[1,-1]])))))\n",
    "               elif check_coord[1]==(length-1):\n",
    "                  neighbours_of_migrants=np.array(list(set(map(tuple, neighbours_of_migrants)) - set(map(tuple,np.array([[-1,1],[0,1],[1,1]])))))\n",
    "               for nbnbhood in neighbours_of_migrants: #looping over all available neighbours\n",
    "                  nghbrnbr_coord=nbnbhood+check_coord #neighbour of neighbour of migrants\n",
    "                  id=track[nghbrnbr_coord[0]][nghbrnbr_coord[1]]\n",
    "                  if id!=-1:#checking if neighboring cell is vacant\n",
    "                     if agents[id].type!=check_agent.type :#testing if agent type of neighbour same as original\n",
    "                          test+=1\n",
    "               if check_agent.agent_id not in unhappy_agents:\n",
    "                 if test>check_agent.tol :\n",
    "                   unhappy_agents.append(check_agent.agent_id) #appending agent_id of unhappy agent\n",
    "                \n",
    "\n",
    "    \n",
    "\n",
    "#We need to check if the element we are appending is already in the array\n",
    "\n",
    "\n",
    "    "
   ]
  },
  {
   "attachments": {},
   "cell_type": "markdown",
   "metadata": {},
   "source": [
    "This is a discrete schelling model. An analogue of ising model. If the number of neighbors are more disimilar than an agent's threshold then the agent is unhappy and tries to shift.\n",
    "\n",
    "Possible experiments, what happens if each agent has a different threshold, how does that effect the final state."
   ]
  },
  {
   "attachments": {},
   "cell_type": "markdown",
   "metadata": {},
   "source": [
    "Writing code for exchanging agents"
   ]
  },
  {
   "cell_type": "code",
   "execution_count": 145,
   "metadata": {},
   "outputs": [],
   "source": [
    "iter=0\n",
    "e=len(unhappy_agents)    #Agent shifts to vacant block if he is less unhappy in new block as compared to current block\n",
    "while e>0:\n",
    "  if iter>=250000:\n",
    "    break\n",
    "  migrant_index=random.randint(0,e-1)\n",
    "  migrant=agents[unhappy_agents[migrant_index]]\n",
    "  l=len(vacant)\n",
    "  vacant_index=random.randint(0,l-1)\n",
    "  vacant_coord=np.copy(vacant[vacant_index])\n",
    "  agent_coord=np.copy(migrant.coord)\n",
    "\n",
    "  #This code checks whether agent will be happy in new position\n",
    "  nb=np.array([[-1,-1],[-1,0],[-1,1],[0,1],[0,-1],[1,-1],[1,0],[1,1]])\n",
    "  t=0\n",
    "    #if exchanged agent is satisfied in new position then migrate\n",
    "  i=track[vacant_coord[0]][vacant_coord[1]]\n",
    "  neighbours=np.array([[-1,-1],[-1,0],[-1,1],[0,1],[0,-1],[1,-1],[1,0],[1,1]])\n",
    "  test=[0,0]\n",
    "  coordinates=[np.copy(agent_coord)]\n",
    "  coordinates.append(np.copy(vacant_coord))\n",
    "  for i, coord in enumerate(coordinates):\n",
    "    neighbours=np.copy(nb)\n",
    "    # Taking care of boundary conditions(Torus=false)\n",
    "    if coord[0]==0:\n",
    "          neighbours=np.array(list(set(map(tuple, neighbours)) - set(map(tuple,np.array([[-1,-1],[-1,0],[-1,1]])))))\n",
    "    elif coord[0]==(width-1):\n",
    "          neighbours=np.array(list(set(map(tuple, neighbours)) - set(map(tuple,np.array([[1,-1],[1,0],[1,1]])))))\n",
    "    if coord[1]==0:\n",
    "          neighbours=np.array(list(set(map(tuple, neighbours)) - set(map(tuple,np.array([[-1,-1],[0,-1],[1,-1]])))))\n",
    "    elif coord[1]==(length-1):\n",
    "          neighbours=np.array(list(set(map(tuple, neighbours)) - set(map(tuple,np.array([[-1,1],[0,1],[1,1]])))))\n",
    "    \n",
    "    for nbhood in neighbours: #looping over all available neighbours\n",
    "         nghbr_coord=nbhood+coord\n",
    "         id=track[nghbr_coord[0]][nghbr_coord[1]]\n",
    "         if id!=-1:#checking if neighboring cell is vacant\n",
    "           if agents[id].type!=migrant.type :#testing if agent type of neighbour same as original\n",
    "                test[i]+=1\n",
    "#End of Happiness checking code test is the variable that holds whether neighbours of new position\n",
    "\n",
    "  if test[1]<test[0]:\n",
    "    migrant.coord=vacant_coord\n",
    "    vacant[vacant_index]=agent_coord\n",
    "    track[vacant[vacant_index][0]][vacant[vacant_index][1]]=-1\n",
    "    track[migrant.coord[0]][migrant.coord[1]]=migrant.agent_id\n",
    "    unhappy_agents_update(agents,track,vacant[vacant_index],migrant.coord)\n",
    "  iter+=1\n",
    "  e=len(unhappy_agents)\n",
    " "
   ]
  },
  {
   "cell_type": "code",
   "execution_count": 146,
   "metadata": {},
   "outputs": [
    {
     "data": {
      "image/png": "[encoded data removed]",
      "text/plain": [
       "<Figure size 432x288 with 1 Axes>"
      ]
     },
     "metadata": {
      "needs_background": "light"
     },
     "output_type": "display_data"
    }
   ],
   "source": [
    "print_grid(agents)"
   ]
  },
  {
   "cell_type": "code",
   "execution_count": 147,
   "metadata": {},
   "outputs": [
    {
     "data": {
      "text/plain": [
       "[18,\n",
       " 53,\n",
       " 62,\n",
       " 66,\n",
       " 83,\n",
       " 102,\n",
       " 177,\n",
       " 224,\n",
       " 243,\n",
       " 378,\n",
       " 413,\n",
       " 427,\n",
       " 435,\n",
       " 505,\n",
       " 595,\n",
       " 601,\n",
       " 624,\n",
       " 704,\n",
       " 731,\n",
       " 742,\n",
       " 746,\n",
       " 763,\n",
       " 767,\n",
       " 796,\n",
       " 865,\n",
       " 875,\n",
       " 891,\n",
       " 918,\n",
       " 980,\n",
       " 1046,\n",
       " 1081,\n",
       " 1088,\n",
       " 1092,\n",
       " 1126,\n",
       " 1283,\n",
       " 1323,\n",
       " 1352,\n",
       " 1357,\n",
       " 1392,\n",
       " 1403,\n",
       " 1431,\n",
       " 1435,\n",
       " 1436,\n",
       " 1503,\n",
       " 1514,\n",
       " 1516,\n",
       " 1517,\n",
       " 1537,\n",
       " 1539,\n",
       " 1570,\n",
       " 1573,\n",
       " 1667,\n",
       " 1684,\n",
       " 1790,\n",
       " 1794,\n",
       " 1819,\n",
       " 1833,\n",
       " 1848,\n",
       " 1906,\n",
       " 1941,\n",
       " 1966,\n",
       " 1994,\n",
       " 913,\n",
       " 458,\n",
       " 179,\n",
       " 391,\n",
       " 192,\n",
       " 839,\n",
       " 1788,\n",
       " 1297,\n",
       " 728,\n",
       " 199,\n",
       " 1872,\n",
       " 1433,\n",
       " 1764,\n",
       " 1434,\n",
       " 1999]"
      ]
     },
     "execution_count": 147,
     "metadata": {},
     "output_type": "execute_result"
    }
   ],
   "source": [
    "unhappy_agents\n"
   ]
  },
  {
   "cell_type": "code",
   "execution_count": 148,
   "metadata": {},
   "outputs": [
    {
     "data": {
      "text/plain": [
       "77"
      ]
     },
     "execution_count": 148,
     "metadata": {},
     "output_type": "execute_result"
    }
   ],
   "source": [
    "e"
   ]
  },
  {
   "cell_type": "code",
   "execution_count": 98,
   "metadata": {},
   "outputs": [
    {
     "data": {
      "image/png": "[encoded data removed]",
      "text/plain": [
       "<Figure size 432x288 with 1 Axes>"
      ]
     },
     "metadata": {
      "needs_background": "light"
     },
     "output_type": "display_data"
    }
   ],
   "source": [
    "%matplotlib inline\n",
    "grid=np.zeros((length,width))\n",
    "i=0\n",
    "for i in range(number_of_agents):\n",
    "  grid[agents[i].coord[0]][agents[i].coord[1]]=agents[i].type\n",
    "\n",
    "cmap = colors.ListedColormap(['white','red', 'blue'])\n",
    "bounds = [-0.1,0.1,1.1,2.1]\n",
    "norm = colors.BoundaryNorm(bounds, cmap.N)\n",
    "\n",
    "fig, ax = plt.subplots()\n",
    "ax.imshow(grid, cmap=cmap, norm=norm)\n",
    "\n",
    "# draw gridlines\n",
    "ax.grid(which='major', axis='both', linestyle='-', color='k', linewidth=1)\n",
    "ax.set_xticks(np.arange(-0.5, length, 1))\n",
    "ax.set_yticks(np.arange(-0.5, width, 1))\n",
    "plt.show()"
   ]
  },
  {
   "cell_type": "code",
   "execution_count": null,
   "metadata": {},
   "outputs": [],
   "source": []
  }
 ],
 "metadata": {
  "kernelspec": {
   "display_name": "Python 3",
   "language": "python",
   "name": "python3"
  },
  "language_info": {
   "codemirror_mode": {
    "name": "ipython",
    "version": 3
   },
   "file_extension": ".py",
   "mimetype": "text/x-python",
   "name": "python",
   "nbconvert_exporter": "python",
   "pygments_lexer": "ipython3",
   "version": "3.10.5"
  },
  "orig_nbformat": 4
 },
 "nbformat": 4,
 "nbformat_minor": 2
}
